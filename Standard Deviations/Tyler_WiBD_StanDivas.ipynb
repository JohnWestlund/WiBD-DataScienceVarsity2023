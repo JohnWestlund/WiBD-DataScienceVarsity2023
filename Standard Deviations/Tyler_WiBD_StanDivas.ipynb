{
 "cells": [
  {
   "cell_type": "code",
   "execution_count": null,
   "id": "1d77c907-a3ef-4bfa-9ec1-009354313af5",
   "metadata": {},
   "outputs": [],
   "source": [
    "%matplotlib inline\n",
    "import matplotlib.pyplot as plt\n",
    "import numpy as np\n",
    "import pandas as pd\n",
    "from sklearn.preprocessing import LabelEncoder\n",
    "from sklearn.utils import column_or_1d\n",
    "import os\n",
    "from sklearn.ensemble import RandomForestClassifier\n",
    "from sklearn.ensemble import GradientBoostingClassifier\n",
    "from sklearn.model_selection import cross_val_score\n",
    "import re"
   ]
  },
  {
   "cell_type": "code",
   "execution_count": null,
   "id": "f15c1aca-1767-4484-ae84-1baf0fdb5c20",
   "metadata": {},
   "outputs": [],
   "source": [
    "#data = pd.read_csv('training_set_features (1).csv', 'training_set_labels (1).csv', 'test_set_features (1).csv')\n",
    "notebook_path = os.path.abspath(\"\") + '/'\n",
    "\n",
    "data = pd.read_csv(notebook_path + 'training_set_features (1).csv')\n",
    "labels = pd.read_csv(notebook_path + 'training_set_labels (1).csv')\n",
    "test = pd.read_csv(notebook_path + 'test_set_features (1).csv')\n",
    "feature_list = []"
   ]
  },
  {
   "cell_type": "code",
   "execution_count": null,
   "id": "fafd202e-c784-48c1-a155-7c747fa18091",
   "metadata": {},
   "outputs": [],
   "source": [
    "class CustomOrderLabelEncoder(LabelEncoder):\n",
    "  def fit(self, y):\n",
    "    y = column_or_1d(y, warn=True)\n",
    "    self.classes_ = pd.Series(y).unique()\n",
    "    return self"
   ]
  },
  {
   "cell_type": "code",
   "execution_count": null,
   "id": "6e3f25bf-72c8-45d7-b1eb-93789432dd67",
   "metadata": {},
   "outputs": [],
   "source": [
    "data.count()"
   ]
  },
  {
   "cell_type": "code",
   "execution_count": null,
   "id": "6552f977-34a5-4521-9b1a-f62e929eea90",
   "metadata": {},
   "outputs": [],
   "source": [
    "data.values"
   ]
  },
  {
   "cell_type": "code",
   "execution_count": null,
   "id": "6bc48eeb-a547-4686-a41a-298291a579f6",
   "metadata": {},
   "outputs": [],
   "source": [
    "for (columnName, columnData) in data.items():\n",
    "    print('Column Name : ', columnName, columnData.dtype)\n",
    "    print('Unique Contents : ', columnData.unique(), \"\\n\")"
   ]
  },
  {
   "cell_type": "code",
   "execution_count": null,
   "id": "027de80f-1f49-45a6-b1ce-c83b4af4ea5d",
   "metadata": {},
   "outputs": [],
   "source": [
    "le_age_group = CustomOrderLabelEncoder()\n",
    "\n",
    "le_age_group.fit(['18 - 34 Years', '35 - 44 Years', '45 - 54 Years', '55 - 64 Years', '65+ Years'])\n",
    "\n",
    " \n",
    "\n",
    "data['enc_age_group'] = le_age_group.transform(data['age_group'])\n",
    "if 'enc_age_group' not in feature_list:\n",
    "    feature_list.append('enc_age_group')\n",
    "\n",
    " \n",
    "\n",
    "data.loc[1:10, ['enc_age_group', 'age_group']]"
   ]
  },
  {
   "cell_type": "code",
   "execution_count": null,
   "id": "cb1b4051-bfde-4803-878b-69e923f353ca",
   "metadata": {},
   "outputs": [],
   "source": [
    "le_education = CustomOrderLabelEncoder()\n",
    "\n",
    "le_education.fit(['< 12 Years', '12 Years', 'Some College', 'College Graduate'])\n",
    "\n",
    " \n",
    "\n",
    "data['enc_education'] = pd.Series(\n",
    "\n",
    "    le_education.transform(data['education'][data['education'].notnull()]),\n",
    "\n",
    "    index=data['education'][data['education'].notnull()].index\n",
    "\n",
    ")\n",
    "if 'enc_education' not in feature_list:\n",
    "    feature_list.append('enc_education')\n",
    "\n",
    " \n",
    "\n",
    "data.loc[1:10, ['enc_education', 'education']]"
   ]
  },
  {
   "cell_type": "code",
   "execution_count": null,
   "id": "59baa314-b381-4bbb-9cd1-0b73844f3116",
   "metadata": {},
   "outputs": [],
   "source": [
    "le_income_poverty = CustomOrderLabelEncoder()\n",
    "\n",
    "le_income_poverty.fit(['Below Poverty', '<= $75,000, Above Poverty', '> $75,000'])\n",
    "\n",
    " \n",
    "\n",
    "data['enc_income_poverty'] = pd.Series(\n",
    "    \n",
    "    le_income_poverty.transform(data['income_poverty'][data['income_poverty'].notnull()]),\n",
    "    \n",
    "    index=data['income_poverty'][data['income_poverty'].notnull()].index\n",
    "               \n",
    ")\n",
    "if 'enc_income_poverty' not in feature_list:\n",
    "    feature_list.append('enc_income_poverty')\n",
    " \n",
    "\n",
    "data.loc[1:10, ['enc_income_poverty', 'income_poverty']]"
   ]
  },
  {
   "cell_type": "code",
   "execution_count": null,
   "id": "9d23e6e3-8b82-4b3f-8b8e-36b41e0ac381",
   "metadata": {},
   "outputs": [],
   "source": [
    "# define One_Hot(prefix, x, y, z= 'blah'):"
   ]
  },
  {
   "cell_type": "code",
   "execution_count": null,
   "id": "c425e017-6ee4-4ce5-91b4-8b753d96e686",
   "metadata": {},
   "outputs": [],
   "source": [
    "data = data.drop(columns=['race_White', 'race_Black', 'race_Other or Multiple', 'race_Hispanic'], errors='ignore')\n",
    "\n",
    "data = pd.concat([data, pd.get_dummies(data.race, prefix='race')], axis=1)\n",
    "\n",
    " \n",
    "\n",
    "data.loc[4107:4111, ['race', 'race_White', 'race_Black', 'race_Other or Multiple', 'race_Hispanic']]\n",
    "column_list = list(data)\n",
    "pattern = re.compile(r'^race_(?!.*_nan$).*')\n",
    "column_list =  list(filter(pattern.match, column_list))\n",
    "for x in column_list: \n",
    "    if x not in feature_list: feature_list.append(x)\n",
    "print (column_list) "
   ]
  },
  {
   "cell_type": "code",
   "execution_count": null,
   "id": "f891af8a-291c-4e87-8628-7b302ac23750",
   "metadata": {},
   "outputs": [],
   "source": [
    "le_sex = CustomOrderLabelEncoder()\n",
    "\n",
    "le_sex.fit(['Female', 'Male'])\n",
    "\n",
    " \n",
    "\n",
    "data['enc_sex'] = pd.Series(\n",
    "    \n",
    "    le_sex.transform(data['sex'][data['sex'].notnull()]),\n",
    "    \n",
    "    index=data['sex'][data['sex'].notnull()].index\n",
    "               \n",
    ")\n",
    "if 'enc_sex' not in feature_list:\n",
    "    feature_list.append('enc_sex')\n",
    " \n",
    "\n",
    "data.loc[1:10, ['enc_sex', 'sex']]"
   ]
  },
  {
   "cell_type": "code",
   "execution_count": null,
   "id": "e5c1e59d-6d9b-4b1e-a2ff-d15d935921d2",
   "metadata": {},
   "outputs": [],
   "source": [
    "le_marital_status = CustomOrderLabelEncoder()\n",
    "\n",
    "le_marital_status.fit(['Not Married', 'Married'])\n",
    "\n",
    " \n",
    "\n",
    "data['enc_marital_status'] = pd.Series(\n",
    "    \n",
    "    le_marital_status.transform(data['marital_status'][data['marital_status'].notnull()]),\n",
    "    \n",
    "    index=data['marital_status'][data['marital_status'].notnull()].index\n",
    "               \n",
    ")\n",
    "if 'enc_marital_status' not in feature_list:\n",
    "    feature_list.append('enc_marital_status')\n",
    " \n",
    "\n",
    "data.loc[1:10, ['enc_marital_status', 'marital_status']]"
   ]
  },
  {
   "cell_type": "code",
   "execution_count": null,
   "id": "41e0572c-136d-4e89-8027-0cb34dbda8d0",
   "metadata": {},
   "outputs": [],
   "source": [
    "le_rent_or_own = CustomOrderLabelEncoder()\n",
    "\n",
    "le_rent_or_own.fit(['Own', 'Rent'])\n",
    "\n",
    " \n",
    "\n",
    "data['enc_rent_or_own'] = pd.Series(\n",
    "    \n",
    "    le_rent_or_own.transform(data['rent_or_own'][data['rent_or_own'].notnull()]),\n",
    "    \n",
    "    index=data['rent_or_own'][data['rent_or_own'].notnull()].index\n",
    "               \n",
    ")\n",
    "if 'enc_rent_or_own' not in feature_list:\n",
    "    feature_list.append('enc_rent_or_own')\n",
    " \n",
    "\n",
    "data.loc[1:10, ['enc_rent_or_own', 'rent_or_own']]"
   ]
  },
  {
   "cell_type": "code",
   "execution_count": null,
   "id": "78ba873b-fe6a-4a03-b277-e77fd673aee5",
   "metadata": {},
   "outputs": [],
   "source": [
    "le_employment_status = CustomOrderLabelEncoder()\n",
    "\n",
    "le_employment_status.fit(['Not in Labor Force', 'Employed', 'Unemployed'])\n",
    "\n",
    " \n",
    "\n",
    "data['enc_employment_status'] = pd.Series(\n",
    "    \n",
    "    le_employment_status.transform(data['employment_status'][data['employment_status'].notnull()]),\n",
    "    \n",
    "    index=data['employment_status'][data['employment_status'].notnull()].index\n",
    "               \n",
    ")\n",
    "if 'enc_employment_staus' not in feature_list:\n",
    "    feature_list.append('enc_employment_status')\n",
    " \n",
    "\n",
    "data.loc[1:10, ['enc_employment_status', 'employment_status']]"
   ]
  },
  {
   "cell_type": "code",
   "execution_count": null,
   "id": "045fa181-25f8-4540-9b13-3b57f86d4145",
   "metadata": {},
   "outputs": [],
   "source": [
    "data = data.drop(columns=['region_oxchjgsf', 'region_bhuqouqj', 'region_qufhixun', 'region_lrircsnp', 'region_atmpeygn', 'region_lzgpxyit',\n",
    " 'region_fpwskwrf', 'region_mlyzmhmf', 'region_dqpwygqj', 'region_kbazzjca'], errors='ignore')\n",
    "\n",
    "data = pd.concat([data, pd.get_dummies(data.hhs_geo_region, prefix='region')], axis=1)\n",
    "\n",
    " \n",
    "\n",
    "data.loc[4107:4111, ['hhs_geo_region', 'region_oxchjgsf', 'region_bhuqouqj', 'region_qufhixun', 'region_lrircsnp', 'region_atmpeygn', 'region_lzgpxyit',\n",
    " 'region_fpwskwrf', 'region_mlyzmhmf', 'region_dqpwygqj', 'region_kbazzjca']]\n",
    "column_list = list(data)\n",
    "pattern = re.compile(r'^region_(?!.*_nan$).*')\n",
    "column_list =  list(filter(pattern.match, column_list))\n",
    "for x in column_list: \n",
    "    if x not in feature_list: feature_list.append(x)\n",
    "print (column_list) "
   ]
  },
  {
   "cell_type": "code",
   "execution_count": null,
   "id": "42d62cd0-ce50-4b46-8322-7508105f4a99",
   "metadata": {},
   "outputs": [],
   "source": [
    "data = data.drop(columns=['msa_Non-MSA', 'msa_MSA, Not Principle  City', 'msa_MSA, Principle City'], errors='ignore')\n",
    "\n",
    "data = pd.concat([data, pd.get_dummies(data.census_msa, prefix='msa')], axis=1)\n",
    "\n",
    " \n",
    "\n",
    "data.loc[4107:4111, ['census_msa', 'msa_Non-MSA', 'msa_MSA, Not Principle  City', 'msa_MSA, Principle City']]\n",
    "column_list = list(data)\n",
    "pattern = re.compile(r'^msa_(?!.*_nan$).*')\n",
    "column_list =  list(filter(pattern.match, column_list))\n",
    "for x in column_list: \n",
    "    if x not in feature_list: feature_list.append(x)\n",
    "print (column_list) "
   ]
  },
  {
   "cell_type": "code",
   "execution_count": null,
   "id": "624589aa-bfb3-4fc3-914a-d38ed29f1172",
   "metadata": {},
   "outputs": [],
   "source": [
    "data = data.drop(columns=['pxcmvdjn', 'rucpziij', 'wxleyezf', 'saaquncn', 'xicduogh', 'ldnlellj',\n",
    " 'wlfvacwt', 'nduyfdeo', 'fcxhlnwr', 'vjjrobsf', 'arjwrbjb', 'atmlpfrs',\n",
    " 'msuufmds', 'xqicxuve', 'phxvnwax', 'dotnnunm', 'mfikgejo', 'cfqqtusy',\n",
    " 'mcubkhph', 'haxffmxo', 'qnlwzans'], errors='ignore')\n",
    "\n",
    "data = pd.concat([data, pd.get_dummies(data.employment_industry, prefix='industry')], axis=1)\n",
    " \n",
    "\n",
    "data.loc[4107:4111, ['employment_industry', 'industry_pxcmvdjn', 'industry_rucpziij', 'industry_wxleyezf', 'industry_saaquncn', 'industry_xicduogh', 'industry_ldnlellj',\n",
    " 'industry_wlfvacwt', 'industry_nduyfdeo', 'industry_fcxhlnwr', 'industry_vjjrobsf', 'industry_arjwrbjb', 'industry_atmlpfrs',\n",
    " 'industry_msuufmds', 'industry_xqicxuve', 'industry_phxvnwax', 'industry_dotnnunm', 'industry_mfikgejo', 'industry_cfqqtusy',\n",
    " 'industry_mcubkhph', 'industry_haxffmxo', 'industry_qnlwzans']]\n",
    "column_list = list(data)\n",
    "pattern = re.compile(r'^industry_(?!.*_nan$).*')\n",
    "column_list =  list(filter(pattern.match, column_list))\n",
    "for x in column_list: \n",
    "    if x not in feature_list: feature_list.append(x)\n",
    "print (column_list) "
   ]
  },
  {
   "cell_type": "code",
   "execution_count": null,
   "id": "a60f9ec8-e7f7-4bbb-ac2f-b15a0390d0c4",
   "metadata": {},
   "outputs": [],
   "source": [
    "data = data.drop(columns=['xgwztkwe', 'xtkaffoo', 'emcorrxb', 'vlluhbov', 'xqwwgdyp', 'ccgxvspp',\n",
    " 'qxajmpny', 'kldqjyjy', 'mxkfnird', 'hfxkjkmi', 'bxpfxfdn', 'ukymxvdu',\n",
    " 'cmhcxjea', 'haliazsg', 'dlvbwzss', 'xzmlyyjv', 'oijqvulv', 'rcertsgn',\n",
    " 'tfqavkke', 'hodpvpew', 'uqqtjvyb', 'pvmttkik', 'dcjcmpih'], errors='ignore')\n",
    "\n",
    "data = pd.concat([data, pd.get_dummies(data.employment_occupation, prefix='occupation')], axis=1)\n",
    "\n",
    " \n",
    "\n",
    "data.loc[4107:4111, ['employment_occupation', 'occupation_xgwztkwe', 'occupation_xtkaffoo', 'occupation_emcorrxb', 'occupation_vlluhbov', 'occupation_xqwwgdyp', 'occupation_ccgxvspp',\n",
    " 'occupation_qxajmpny', 'occupation_kldqjyjy', 'occupation_mxkfnird', 'occupation_hfxkjkmi', 'occupation_bxpfxfdn', 'occupation_ukymxvdu',\n",
    " 'occupation_cmhcxjea', 'occupation_haliazsg', 'occupation_dlvbwzss', 'occupation_xzmlyyjv', 'occupation_oijqvulv', 'occupation_rcertsgn',\n",
    " 'occupation_tfqavkke', 'occupation_hodpvpew', 'occupation_uqqtjvyb', 'occupation_pvmttkik', 'occupation_dcjcmpih']]\n",
    "column_list = list(data)\n",
    "pattern = re.compile(r'^occupation_(?!.*_nan$).*')\n",
    "column_list =  list(filter(pattern.match, column_list))\n",
    "for x in column_list: \n",
    "    if x not in feature_list: feature_list.append(x)\n",
    "print (column_list) "
   ]
  },
  {
   "cell_type": "code",
   "execution_count": null,
   "id": "5fb27013-2531-45f0-af75-822f68dedfab",
   "metadata": {},
   "outputs": [],
   "source": [
    "#Crude start to changing NaN's to values. Let me know your thoughts. It did boost the rf_scores slightly. \n",
    "numerical_features = pd.read_csv(notebook_path + 'training_set_features (1).csv').get(['h1n1_concern','h1n1_knowledge','behavioral_antiviral_meds','behavioral_avoidance',\n",
    "         'behavioral_face_mask','behavioral_wash_hands','behavioral_large_gatherings','behavioral_outside_home',\n",
    "         'behavioral_touch_face','doctor_recc_h1n1','doctor_recc_seasonal','chronic_med_condition','child_under_6_months',\n",
    "         'health_worker','health_insurance','opinion_h1n1_vacc_effective','opinion_h1n1_risk','opinion_h1n1_sick_from_vacc',\n",
    "         'opinion_seas_vacc_effective','opinion_seas_risk','opinion_seas_sick_from_vacc','household_adults','household_children',\n",
    "         'age_group', 'education', 'race', 'sex', 'income_poverty', 'marital_status', 'rent_or_own', 'employment_status','hhs_geo_region','census_msa','employment_industry','employment_occupation'])\n",
    "numerical_features.head(6)\n",
    "median_features = numerical_features.dropna().median(numeric_only=True)"
   ]
  },
  {
   "cell_type": "code",
   "execution_count": null,
   "id": "cb3d0209-5b38-4e6b-9cde-50a52de0ff6d",
   "metadata": {},
   "outputs": [],
   "source": [
    "# get indices where any feature has a NaN value\n",
    "\n",
    "index_nans = data[data.isnull().any(axis=1)].index\n",
    "\n",
    "# drop those rows from our feature dataframe and label dataframe\n",
    "\n",
    "nonan_data = data.drop(index_nans)\n",
    "nonan_labels = labels.drop(index_nans)\n",
    "\n",
    "nonan_data.count()"
   ]
  },
  {
   "cell_type": "code",
   "execution_count": null,
   "id": "e28bb2fb-c3e3-4802-9224-3f0eebb8b902",
   "metadata": {},
   "outputs": [],
   "source": [
    "# Changed List to Numeric_List\n",
    "\n",
    "numeric_lists = ['h1n1_concern','h1n1_knowledge','behavioral_antiviral_meds','behavioral_avoidance',\n",
    "         'behavioral_face_mask','behavioral_wash_hands','behavioral_large_gatherings','behavioral_outside_home',\n",
    "         'behavioral_touch_face','doctor_recc_h1n1','doctor_recc_seasonal','chronic_med_condition','child_under_6_months',\n",
    "         'health_worker','health_insurance','opinion_h1n1_vacc_effective','opinion_h1n1_risk','opinion_h1n1_sick_from_vacc',\n",
    "         'opinion_seas_vacc_effective','opinion_seas_risk','opinion_seas_sick_from_vacc','household_adults','household_children'] \n",
    "for x in numeric_lists: \n",
    "    if x not in feature_list: feature_list.append(x)\n",
    "print (feature_list)\n"
   ]
  },
  {
   "cell_type": "code",
   "execution_count": null,
   "id": "9757379d-d91d-4a8b-a699-f6327f89a4fc",
   "metadata": {},
   "outputs": [],
   "source": [
    "# What does '(n_estimators=300)' mean?\n",
    "rf = RandomForestClassifier (n_estimators=300)\n",
    "\n",
    " \n",
    "\n",
    "rf_scores = cross_val_score(rf, nonan_data .get(feature_list), nonan_labels['h1n1_vaccine'], cv=10, n_jobs=4, scoring= 'roc_auc')\n",
    "\n",
    "print('h1n1', rf_scores.min(), rf_scores.mean(), rf_scores.max())\n",
    "\n",
    " \n",
    "\n",
    "rf_scores = cross_val_score(rf, nonan_data .get(feature_list), nonan_labels['seasonal_vaccine'], cv=10, n_jobs=4, scoring= 'roc_auc')\n",
    "\n",
    "print('seas', rf_scores.min(), rf_scores.mean(), rf_scores.max())"
   ]
  },
  {
   "cell_type": "code",
   "execution_count": null,
   "id": "18e74a44-7bb0-4cbc-a00a-dc54ab6e58b9",
   "metadata": {},
   "outputs": [],
   "source": []
  },
  {
   "cell_type": "code",
   "execution_count": null,
   "id": "3633a429-6973-43f7-bf62-10679fc19c84",
   "metadata": {},
   "outputs": [],
   "source": []
  },
  {
   "cell_type": "code",
   "execution_count": null,
   "id": "1c839404-f5b8-40af-a9d5-f6c7ab359a7f",
   "metadata": {},
   "outputs": [],
   "source": []
  },
  {
   "cell_type": "code",
   "execution_count": null,
   "id": "87d6aa9a-c263-4c4d-94a7-157ac0c10176",
   "metadata": {},
   "outputs": [],
   "source": []
  }
 ],
 "metadata": {
  "kernelspec": {
   "display_name": "Python 3 (Intel® oneAPI 2023.0)",
   "language": "python",
   "name": "c009-intel_distribution_of_python_3_oneapi-beta05-python"
  },
  "language_info": {
   "codemirror_mode": {
    "name": "ipython",
    "version": 3
   },
   "file_extension": ".py",
   "mimetype": "text/x-python",
   "name": "python",
   "nbconvert_exporter": "python",
   "pygments_lexer": "ipython3",
   "version": "3.9.15"
  }
 },
 "nbformat": 4,
 "nbformat_minor": 5
}
