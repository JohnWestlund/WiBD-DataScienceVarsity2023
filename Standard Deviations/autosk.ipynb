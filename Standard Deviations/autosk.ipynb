{
 "cells": [
  {
   "cell_type": "code",
   "execution_count": null,
   "id": "a117fa5c-0e5f-4827-8b5f-830fb523c9cb",
   "metadata": {},
   "outputs": [],
   "source": [
    "import pandas as pd\n",
    "import numpy as np\n",
    "import os\n",
    "import shutil\n",
    "import autosklearn\n",
    "import autosklearn.classification\n",
    "import PipelineProfiler"
   ]
  },
  {
   "cell_type": "code",
   "execution_count": null,
   "id": "99a732ba-7dcc-42da-a006-2c22625c46c5",
   "metadata": {},
   "outputs": [],
   "source": [
    "tmpdir = os.path.expanduser('~/tmp')\n",
    "tmpauto = os.path.expanduser('/tmp/auto')\n",
    "\n",
    "if os.path.exists(tmpdir):\n",
    "    print(\"Tmp is symlinked.\")\n",
    "else:\n",
    "    if not os.path.exists(tmpauto):\n",
    "        os.mkdir(tmpauto)\n",
    "    if not os.path.islink(tmpdir):\n",
    "        os.symlink(tmpauto, tmpdir)\n",
    "    print('Created tmp directory symlink.')"
   ]
  },
  {
   "cell_type": "code",
   "execution_count": null,
   "id": "267788f8-c551-414b-b234-1d65218a4a3a",
   "metadata": {},
   "outputs": [],
   "source": [
    "random_features = pd.DataFrame(np.random.randint(0,100,size=(10, 3)), columns=list('ABC'))\n",
    "target_bool     = pd.DataFrame(np.random.randint(0,2,size=(10, 1)), columns=list('T'))"
   ]
  },
  {
   "cell_type": "code",
   "execution_count": null,
   "id": "8a64a0d8-5406-4f67-ba8f-2968c99d9e80",
   "metadata": {
    "tags": []
   },
   "outputs": [],
   "source": [
    "tmpdir = os.path.expanduser('/tmp/auto2')\n",
    "if os.path.exists(tmpdir):\n",
    "    shutil.rmtree(tmpdir)\n",
    "else:\n",
    "    print(\"No tmpdir found.\")\n",
    "\n",
    "automl = autosklearn.classification.AutoSklearnClassifier(time_left_for_this_task=300, memory_limit=None, delete_tmp_folder_after_terminate=True)\n",
    "automl.fit(random_features, target_bool)"
   ]
  },
  {
   "cell_type": "code",
   "execution_count": null,
   "id": "9a471f26-cd8a-4164-aa9a-2375754b98fe",
   "metadata": {},
   "outputs": [],
   "source": [
    "profiler_data= PipelineProfiler.import_autosklearn(automl)\n",
    "PipelineProfiler.plot_pipeline_matrix(profiler_data)"
   ]
  },
  {
   "cell_type": "code",
   "execution_count": null,
   "id": "95e55301-12fd-4aa4-b610-7e356535d093",
   "metadata": {},
   "outputs": [],
   "source": [
    "if os.path.exists(tmpauto):\n",
    "    shutil.rmtree(tmpauto)\n",
    "if os.path.exists(tmpdir):\n",
    "    shutil.rmtree(tmpdir)"
   ]
  },
  {
   "cell_type": "code",
   "execution_count": null,
   "id": "f3d3195b-d8f1-456a-bb56-bb9cd6f3327a",
   "metadata": {},
   "outputs": [],
   "source": []
  }
 ],
 "metadata": {
  "kernelspec": {
   "display_name": "Python 3 (Intel® oneAPI 2023.0)",
   "language": "python",
   "name": "c009-intel_distribution_of_python_3_oneapi-beta05-python"
  },
  "language_info": {
   "codemirror_mode": {
    "name": "ipython",
    "version": 3
   },
   "file_extension": ".py",
   "mimetype": "text/x-python",
   "name": "python",
   "nbconvert_exporter": "python",
   "pygments_lexer": "ipython3",
   "version": "3.9.15"
  }
 },
 "nbformat": 4,
 "nbformat_minor": 5
}
